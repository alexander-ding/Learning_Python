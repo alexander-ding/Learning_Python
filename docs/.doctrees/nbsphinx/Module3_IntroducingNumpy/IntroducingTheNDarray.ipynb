{
 "cells": [
  {
   "cell_type": "raw",
   "metadata": {
    "raw_mimetype": "text/restructuredtext"
   },
   "source": [
    ".. meta::\n",
    "   :description: Topic: Introduction to numpy arrays, Difficulty: Easy, Category: Section\n",
    "   :keywords: numpy array, ndarray, introduction, overview"
   ]
  },
  {
   "cell_type": "markdown",
   "metadata": {},
   "source": [
    "# N维数组简介\n",
    "是时候让我们了解NumPy——在Python中做数字工作的旗舰模组——了！以使用此模组，我们需要在代码中“导入”（import）NumPy模组：\n",
    "\n",
    "```python\n",
    "import numpy as np\n",
    "```\n",
    "\n",
    "你也可以运行 `import numpy` 来代替以上语句，但是以上语句允许我们在代码中使用简写 'np' 而不需要写出全称 'numpy'。这是一个常用的简写。\n",
    "\n",
    "N维数组（ND-array）是NumPy模组的明星。它能够存储一序列的数字。像Python列表一样，你可以通过“索引”（indexing）来访问该数组的成员，也可以通过“切片”（slicing）来访问数组的子序列。那么NumPy的N维数组和Python列表有什么区别，且为什么有一整个围绕着这个数组的数字模组呢？N维数组特殊于以下两点。它可以：\n",
    "\n",
    " 1. 提供在多个维度访问它内在数据的接口。\n",
    " 2. 通过编译的C代码（而不是Python代码）高效地对其成员或有规律的子序列进行数学操作；这个过程叫做矢量化（vectorization）。\n",
    "\n",
    "让我们扫一眼这个模组提供的内容吧。以下代码创建了一个内容为数字0-8的N维数组：\n",
    "\n",
    "```python\n",
    ">>> import numpy as np\n",
    ">>> x = np.array([0, 1, 2, 3, 4, 5, 6, 7, 8])\n",
    "```\n",
    "\n",
    "此对象属于NumPy定义的类 `numpy.ndarray`。\n",
    "\n",
    "```python\n",
    "# N维数组属于类 `numpy.ndarray`\n",
    ">>> type(x)\n",
    "numpy.ndarray\n",
    "\n",
    ">>> isinstance(x, np.ndarray)\n",
    "True\n",
    "```"
   ]
  },
  {
   "cell_type": "markdown",
   "metadata": {},
   "source": [
    "我们可以重塑（reshape）此数组的形状，使其可以在2个维度中被访问：\n",
    "```python\n",
    ">>> x = x.reshape(3,3)\n",
    ">>> x\n",
    "array([[0, 1, 2],\n",
    "       [3, 4, 5],\n",
    "       [6, 7, 8]])\n",
    "```\n",
    "\n",
    "我们将使用NumPy的一个“矢量化”过的函数来为数组中每一个数都求平方（而不需要编写for循环）：\n",
    "```python\n",
    ">>> np.power(x, 2)  # 也可以使用简写来计算：x**2\n",
    "array([[ 0,  1,  4],\n",
    "       [ 9, 16, 25],\n",
    "       [36, 49, 64]], dtype=int32)\n",
    "```\n",
    "\n",
    "让我们求数据每一列的平均值：\n",
    "```python\n",
    ">>> np.mean(x, axis=1)\n",
    "array([ 1.,  4.,  7.])\n",
    "```\n",
    "\n",
    "我们可以使用广播来为 `x` 的每一列求多个不同的幂：\n",
    "```python\n",
    ">>> x ** np.array([0., 1., 2.])\n",
    "array([[  1.,   1.,   4.],\n",
    "       [  1.,   4.,  25.],\n",
    "       [  1.,   7.,  64.]])\n",
    "```\n",
    "\n",
    "基本索引（basic indexing）允许我们获得 `x` 的多维度切片：\n",
    "```python\n",
    ">>> x[:2, :3]\n",
    "array([[0, 1, 2],\n",
    "       [3, 4, 5]])\n",
    "```\n",
    "\n",
    "进阶索引可以用来获取 `x` 中所有的偶数；让我们更新 `x` 来让它所有的偶数都乘以-1吧：\n",
    "\n",
    "```python\n",
    ">>> x[x % 2 == 0] *= -1\n",
    ">>> x\n",
    "array([[ 0,  1, -2],\n",
    "       [ 3, -4,  5],\n",
    "       [-6,  7, -8]])\n",
    "```\n",
    "\n",
    "在本模组结尾，这些代码片段都将会成为你理解范围内，且NumPy的强大功能也将得到充分的展示。"
   ]
  },
  {
   "cell_type": "markdown",
   "metadata": {},
   "source": [
    "## 官方说明文档链接\n",
    "\n",
    "- [N维数组](https://docs.scipy.org/doc/numpy/reference/arrays.ndarray.html)\n",
    "- [NumPy基础](https://docs.scipy.org/doc/numpy/user/basics.html#numpy-basics)\n",
    "- [NumPy参考](https://docs.scipy.org/doc/numpy/reference/index.html)"
   ]
  }
 ],
 "metadata": {
  "jupytext": {
   "text_representation": {
    "extension": ".md",
    "format_name": "markdown",
    "format_version": "1.2",
    "jupytext_version": "1.3.0rc2"
   }
  },
  "kernelspec": {
   "display_name": "Python 3",
   "language": "python",
   "name": "python3"
  }
 },
 "nbformat": 4,
 "nbformat_minor": 4
}
