{
 "cells": [
  {
   "cell_type": "raw",
   "metadata": {
    "raw_mimetype": "text/restructuredtext"
   },
   "source": [
    ".. meta::\n",
    "   :description: Topic: Numpy array attributes, Difficulty: Easy, Category: Section\n",
    "   :keywords: ndim, shape, size, itemsize, dtype, examples"
   ]
  },
  {
   "cell_type": "markdown",
   "metadata": {},
   "source": [
    "# 基本的数组属性\n",
    "有了我们对NumPy多维数组的理解后，我们现在来了解一些使用代码来查看数组属性（例如维度）的方法吧。理解数组的“形状”（shape）是什么极其重要。\n",
    "\n",
    "我们将使用以下的数组来进行讨论：\n",
    " \n",
    "```python\n",
    ">>> import numpy as np\n",
    ">>> example_array = np.array([[[ 0,  1,  2,  3],\n",
    "...                            [ 4,  5,  6,  7]],\n",
    "...\n",
    "...                           [[ 8,  9, 10, 11],\n",
    "...                            [12, 13, 14, 15]],\n",
    "...\n",
    "...                           [[16, 17, 18, 19],\n",
    "...                            [20, 21, 22, 23]]])\n",
    "```\n",
    "根据之前的讨论，这是一个有着一下结构的3维数组：\n",
    "\n",
    " - 轴0描述从**3页**中选中哪一个。\n",
    " - 轴1描述从任何一页中的**2行**中选中哪一个。\n",
    " - 轴2描述从任何一页和行中的**4列**中选中哪一个。\n",
    "\n",
    "**ndarray.ndim**: \n",
    "\n",
    "数组的轴（维度）数。\n",
    "\n",
    "```python\n",
    "# 数组的维度\n",
    ">>> example_array.ndim\n",
    "3\n",
    "```"
   ]
  },
  {
   "cell_type": "markdown",
   "metadata": {},
   "source": [
    "**ndarray.shape**:\n",
    "\n",
    "成员为代表数组每个维度的项目数量的整数元组。如果一个2维数组有着 $N$ 行和 $M$ 列，那么形状将是 $(N, M)$。所以这个形状元组的长度等于数组的维度。\n",
    "\n",
    "```python\n",
    "# 数组的形状\n",
    ">>> example_array.shape\n",
    "(3, 2, 4)\n",
    "```\n",
    "\n",
    "**ndarray.size**:\n",
    "\n",
    "这个数组总共的成员数。这等于数组形状的每个数的乘积。\n",
    "```python\n",
    "# 数组的大小：数组中存了多少个成员\n",
    ">>> example_array.size\n",
    "24\n",
    "```\n",
    "\n",
    "**ndarray.dtype**:\n",
    "\n",
    "描述数组成员的数据类型的对象。请回忆，NumPy的N维数组都是*同质*（homogenous）的：它们只能拥有同样数据类型的数字。\n",
    "\n",
    "```python\n",
    "# `example_array` 存储整数。每个整数使用32比特（bit）的内存\n",
    ">>> example_array.dtype\n",
    "dtype('int32') \n",
    "```\n",
    "\n",
    "**ndarray.itemsize**:\n",
    "\n",
    "数组每个成员的大小，单位是字节（byte）（1字节等于8比特）。比如说，类型为 `float64` 的数组的itemsize就是8 $(= \\frac{64}{8})$，而类型为 `complex32` 的数组的itemsize就是4 $(= \\frac{32}{8})$。\n",
    "```python\n",
    "# `example_array` 的每个整数占用4字节（32比特）的内存\n",
    ">>> example_array.itemsize\n",
    "4\n",
    "```"
   ]
  },
  {
   "cell_type": "markdown",
   "metadata": {},
   "source": [
    "## 官方说明文档链接\n",
    "\n",
    "- [数组属性](https://docs.scipy.org/doc/numpy/reference/arrays.ndarray.html#array-attributes)"
   ]
  }
 ],
 "metadata": {
  "jupytext": {
   "text_representation": {
    "extension": ".md",
    "format_name": "markdown",
    "format_version": "1.2",
    "jupytext_version": "1.3.0rc2"
   }
  },
  "kernelspec": {
   "display_name": "Python 3",
   "language": "python",
   "name": "python3"
  }
 },
 "nbformat": 4,
 "nbformat_minor": 4
}
