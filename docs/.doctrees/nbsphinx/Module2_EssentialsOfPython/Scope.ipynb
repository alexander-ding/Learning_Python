{
 "cells": [
  {
   "cell_type": "raw",
   "metadata": {
    "raw_mimetype": "text/restructuredtext"
   },
   "source": [
    ".. meta::\n",
    "   :description: Topic: variable score and namespaces in python, Difficulty: Medium, Category: Section\n",
    "   :keywords: variable, namespace, function, scope, shadowing"
   ]
  },
  {
   "cell_type": "markdown",
   "metadata": {},
   "source": [
    "# 作用域"
   ]
  },
  {
   "cell_type": "markdown",
   "metadata": {},
   "source": [
    "函数“封装”（encapsulation）提供的一大好处在于你无法在函数外面“看到”或访问参数变量或其中定义的任何其它变量。也就是说，这些变量的**作用域**（scope）是有限的。\n",
    "\n",
    "<div class=\"alert alert-info\">\n",
    "\n",
    "**定义**：\n",
    "\n",
    "一个变量的**作用域**指其在Python直译器眼中可见/可访问的环境。\n",
    "</div>\n",
    "\n",
    "直到我们理解语句和函数的讨论之前，我们仅仅遇到过有**文件作用域**（file scope）的变量。这意味着被定义后，该变量对任何相同文件中的代码而言都可见。有着文件作用域的变量甚至可以*在函数内*使用。相比文件作用域，函数中定义的变量或函数的输入参数则有着**有限作用域**（restricted scope）——它们只能在函数内使用：\n",
    "\n",
    "```python\n",
    "x = 3  # `x` 有着文件作用域。就算它没有作为参数输入到函数中，\n",
    "       # 它也可以在其中被访问\n",
    "\n",
    "# `my_func` 在其被定义后有着文件作用域\n",
    "def my_func(y): \n",
    "    func_var = 9 + x  # `x` 的值将为3\n",
    "    # 变量 `y` 和 `func_var` 的作用域限制在本函数中\n",
    "    return y\n",
    "\n",
    "# `func_var` 和 `y` 在此不存在\n",
    "print(func_var)  # 导致 NameError：名字 `func_var` 未定义\n",
    "print(y)         # 导致 NameError：名字 `y` 未定义\n",
    "```\n",
    "\n",
    "Python的作用域规则其实相比其他如C++的语言相当直接。在大部分情况下，Python会给予变量文件作用域。让我们快速总结一下定义变量的不同环境以及它们相对应的作用域规则。假设以下代码代表着Python脚本“example_scope.py”的全部内容：\n",
    "```python\n",
    "# 演示变量在不同情况下的作用域\n",
    "# 本文件并不计算任何有意义的结果\n",
    "\n",
    "from itertools import combinations  # `combinations` 有文件作用域\n",
    " \n",
    "# `my_func` 有文件作用域\n",
    "# `in_arg1` 有有限作用域\n",
    "# `in_arg2` 有有限作用域\n",
    "# `func_block` 有有限作用域\n",
    "def my_func(in_arg1, in_arg2=\"cat\"):\n",
    "    func_block = 1\n",
    "    return None \n",
    "\n",
    "# `file_var` 有文件作用域\n",
    "# `comp_var` 有有限作用域\n",
    "file_var = [comp_var**2 for comp_var in [-1, -2]]\n",
    "\n",
    "# `if_block` 有文件作用域\n",
    "if True:\n",
    "    if_block = 2\n",
    "else:\n",
    "    if_block = 3\n",
    "\n",
    "# `it_var` 有文件作用域\n",
    "# `for_block` 有文件作用域\n",
    "for it_var in [1, 2, 3]:\n",
    "    for_block = 1\n",
    "\n",
    "# `while_block` 有文件作用域\n",
    "while True:\n",
    "    while_block = None\n",
    "    break\n",
    "```\n",
    "\n",
    "在以上代码中，以下变量有着*文件作用域*：\n",
    "\n",
    "- `combinations`\n",
    "- `my_func`\n",
    "- `file_var`\n",
    "- `if_block`\n",
    "- `it_var`\n",
    "- `for_block`\n",
    "- `while_block`\n",
    "\n",
    "而以下变量有着*有限作用域*：\n",
    "\n",
    "- `in_arg1`\n",
    "- `in_arg2`\n",
    "- `func_block`\n",
    "- `comp_var`"
   ]
  },
  {
   "cell_type": "markdown",
   "metadata": {},
   "source": [
    "在C++中，变量 `if_block`，`it_var`，`for_block`，和 `while_block` 会有着有限作用域——这些函数在它们对应的if/for/while区块外不会被定义。\n",
    "\n",
    "<div class=\"alert alert-info\">\n",
    "\n",
    "**经验**：\n",
    "\n",
    "在函数中定义的变量有着*有限作用域*。这将导致它们在函数外不存在。大部分其它情况下定义的Python变量都有着*文件作用域*（也就是说它们在定义后可以被同文件的任何代码使用）。\n",
    "</div>"
   ]
  },
  {
   "cell_type": "markdown",
   "metadata": {},
   "source": [
    "## 变量重影\n",
    "当一个文件作用域的变量和一个函数作用域的变量有着同样名字时会发生什么？这种情况叫做**变量重影**（variable shadowing）。Python通过优先使用可用作用域中*最受限制的作用域*的变量来解决这个冲突：\n",
    "\n",
    "```python\n",
    "x = 2\n",
    "y = 3\n",
    "\n",
    "def func(x):\n",
    "    # 输入参数 `x` 凌驾于文件作用域版本的 `x` 之上\n",
    "    y = 5  # 凌驾于文件作用域版本的 `y` 之上\n",
    "    return x + y\n",
    "\n",
    "# `x` 在这里是 2\n",
    "# `y` 在这里是 3\n",
    "\n",
    "print(func(-5))  # 打印 0\n",
    "print(x, y)      # 打印 2 3\n",
    "```\n",
    "\n",
    "相似的：\n",
    "\n",
    "```python\n",
    "it = \"cow\"\n",
    "\n",
    "def func():\n",
    "    it = \"dog\" # 凌驾于文件作用域版本的 `it` 之上\n",
    "    my_list = [it**2 for it in [1, 2, 3]]  # 在列表理解中，函数作用域版本的 `it` 被覆盖了\n",
    "    # `it` 在这里是 \"dog\"\n",
    "    return None\n",
    "\n",
    "# `it` 在这里是 \"cow\"\n",
    "```"
   ]
  },
  {
   "cell_type": "markdown",
   "metadata": {},
   "source": [
    "## 官方说明文档链接\n",
    "\n",
    "- [作用域和命名空间](https://docs.python.org/3/tutorial/classes.html#python-scopes-and-namespaces)\n",
    "- [Python的执行模型](https://docs.python.org/3/reference/executionmodel.html)"
   ]
  }
 ],
 "metadata": {
  "jupytext": {
   "text_representation": {
    "extension": ".md",
    "format_name": "markdown",
    "format_version": "1.2",
    "jupytext_version": "1.3.0rc2"
   }
  },
  "kernelspec": {
   "display_name": "Python 3",
   "language": "python",
   "name": "python3"
  }
 },
 "nbformat": 4,
 "nbformat_minor": 4
}
