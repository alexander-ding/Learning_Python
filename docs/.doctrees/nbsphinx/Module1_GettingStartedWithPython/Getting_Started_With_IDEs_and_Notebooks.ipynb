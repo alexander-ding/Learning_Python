{
 "cells": [
  {
   "cell_type": "raw",
   "metadata": {
    "raw_mimetype": "text/restructuredtext"
   },
   "source": [
    ".. meta::\n",
    "   :description: Topic: Integrated Development Environments, Difficulty: Easy, Category: Tools\n",
    "   :keywords: python, introduction, IDE, PyCharm, VSCode, Jupyter, recommendation, tools"
   ]
  },
  {
   "cell_type": "markdown",
   "metadata": {},
   "source": [
    "# 设置开发环境\n",
    "## 你将学到什么\n",
    "\n",
    "- 集成开发环境（IDE）是一套用来编辑，运行，和调试代码的复杂的文本编辑器。\n",
    "- Python壳（shell）是一个用以输入和直接在计算机命令行中运行Python代码的接口。\n",
    "- IPython壳是一个更加完善的Python壳——它提供语法高亮，自动完成，以及其它有用的功能。\n",
    "- Jupyter记事本是用来编写，测试新代码的强大工具。它同时也可以用来可视化数据和编写格式化的文本。我们将会在本资源中经常使用它。"
   ]
  },
  {
   "cell_type": "markdown",
   "metadata": {},
   "source": [
    "## 集成开发环境（IDE）\n",
    "在本模组的第一节中，我们了解了Python脚本仅仅是包含Python代码的文本文件这一事实。除了使用 `.py` 为文件后缀名之外，Python脚本对比其它文本文件没有什么特殊的特征。话说如此，使用文本编辑器来编写Python代码很不效率（而使用Microsoft Word这样的文字处理软件是万万不可取的）。我们需要一个“集成开发环境”（IDE）来帮助我们开发代码。\n",
    "\n",
    "首先，一个好的IDE会提供拥有如下功能的文本编辑器：\n",
    "\n",
    "- 检查你的代码并标记语法错误（如拼错的函数名，不存在的变量，等等）\n",
    "- 彩色化你的代码来使其更容易分辨。比如说，这可以帮助你区分数字和字符串。\n",
    "- 允许你轻松地查阅函数的定义和说明文件。\n",
    "- 在你输入变量和函数时自动完成它们的名字。\n",
    "\n",
    "很多IDE也会提供帮助你测试你的代码的调试工具以及帮助你在修改代码的同时记录代码版本的版本控制软件（version-control software）（如Git）。虽然它们很有用，我们在此并不讨论这些高级功能。\n",
    "\n",
    "### 推荐的IDE\n",
    "市面上有很多IDE支持Python代码。我们在这里推荐两个：\n",
    " \n",
    "[PyCharm](https://www.jetbrains.com/pycharm/download): 一个专门针对Python开发的强大IDE。\n",
    "\n",
    "**好处**\n",
    "\n",
    "- 下载即用，无需太多设置就很好用\n",
    "- 有职业人员的长期支持，因此很可靠\n",
    "- 可以进行深层次的设置\n",
    "- 全功能，包括极棒的调试器，适应语境的“Intellisense”，类型推论\n",
    "- 免费的“社区版本”（community version）已经非常强大和活跃\n",
    "\n",
    "**坏处**\n",
    "\n",
    " - 很耗资源，特别对手提电脑而言\n",
    " - 功能多导致新用户难以上手（但它有很好的教程和说明文件）\n",
    " - 需要付费版的PyCharm才可以支持Jupyter记事本，因此对新用户不友好\n",
    "\n",
    "[Visual Studio Code](https://code.visualstudio.com/) 以及它的 [Python拓展](https://code.visualstudio.com/docs/languages/python): 一个轻便，宜定制的IDE。\n",
    "\n",
    "**好处**\n",
    "\n",
    "- 轻便优雅\n",
    "- 完全免费\n",
    "- 支持其它的编程语言，就算你经常使用多种编程语言你也只需要学习使用一个IDE\n",
    "- 有极其多的拓展可供下载以提供编辑器新功能；这些拓展是由一个大社区的开源开发者编写的\n",
    "- [支持Jupyter记事本](https://code.visualstudio.com/docs/python/jupyter-support)，意味着你可以在记事本中享受VSCode的intellisense，调试器，和查看变量的功能\n",
    "\n",
    "**坏处**\n",
    "\n",
    "- 设置VSCode来进行Python开发对新手而言可能相对复杂\n",
    "- 很多功能，如intellisense和类型推论，在PyCharm中更加完善和强大"
   ]
  },
  {
   "cell_type": "markdown",
   "metadata": {},
   "source": [
    "<div class=\"alert alert-info\">\n",
    "\n",
    "**经验**:\n",
    "\n",
    "集成开发环境（IDE）提供强大的工具来帮助你编写格式化和无拼写错误的代码。本资源建议你使用PyCharm Community Edition或Visual Studio Code（加上Python拓展）作为你的Python IDE。\n",
    "</div>"
   ]
  }
 ],
 "metadata": {
  "jupytext": {
   "text_representation": {
    "extension": ".md",
    "format_name": "markdown",
    "format_version": "1.2",
    "jupytext_version": "1.3.0rc2"
   }
  },
  "kernelspec": {
   "display_name": "Python 3",
   "language": "python",
   "name": "python3"
  }
 },
 "nbformat": 4,
 "nbformat_minor": 4
}
